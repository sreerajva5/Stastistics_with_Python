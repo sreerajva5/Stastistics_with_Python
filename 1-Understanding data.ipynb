{
 "cells": [
  {
   "cell_type": "markdown",
   "metadata": {},
   "source": [
    "###  Statistics with Python (Understanding data)"
   ]
  },
  {
   "cell_type": "markdown",
   "metadata": {},
   "source": [
    "Data is information source. Data use to any kind of analysis, visualization and helps to make decision.\n",
    "\n",
    "Numpy and pandas in python helps to do data cleansing.\n",
    "\n",
    "### Types of data\n",
    "\n",
    "                                     Data\n",
    "                                       |\n",
    "                        ----------------------------------\n",
    "                        |                                 |\n",
    "                  Qualitative                         Quantitative\n",
    "                        |                                 |\n",
    "                  -------------                      --------------\n",
    "                  |            |                     |             |\n",
    "              Nominal        Ordinal             Discrete        Continuous    \n",
    "                  \n",
    "- Qualitative :  Categorical in nature\n",
    "                - Nominal : Just a categorical data. cannot mak in order (eg: Male, Female category)\n",
    "                - Ordinal : We can make this categorical data in order (eg: Customer rating from very poor to excellent).\n",
    "- Quantitative : Numerical in nature. Anything we can measure, aggregate, summarise is a quantitative data.\n",
    "                - Descrete : Anything countable. Whole numbers. (eg: children in family, students in class)\n",
    "                - Continuous :  Not countable. Usually decimal values. (eg: amount of rainfall, weight of person)"
   ]
  },
  {
   "cell_type": "markdown",
   "metadata": {},
   "source": [
    "### Variables and its types"
   ]
  },
  {
   "cell_type": "markdown",
   "metadata": {},
   "source": [
    "There are different types of varibles in a data.\n",
    "\n",
    "1. Independant Variable : A variable not effected by change of another variable in a dataset is independant variable. Using independant variable we can create a model to predict dependant variable value. (eg: Age and experience in a data of age, experience and salary)\n",
    "\n",
    "2. Dependant variable : A variable effected by change of values in another variable. (eg: salary in a data of age, experience and salary)\n",
    "\n",
    "3. Categorical variable : Its categorical in nature. Will not be numeric. (eg: Animals, Cars, Male & Female category)\n",
    "\n",
    "4. Control ariable : A factor in an experiment which must be help constant (eg: Medicine taking time & bias in a medicine effectiveness experiment. To avoid we will do it at fixed time and with double blind test.)\n",
    "\n",
    "5. Confounding Variable : Extra variables that have a hidden effect on your expiremental results (eg: cruide oil price in a data of a car or bike prediction)."
   ]
  },
  {
   "cell_type": "markdown",
   "metadata": {},
   "source": [
    "### Sample and Population"
   ]
  },
  {
   "cell_type": "markdown",
   "metadata": {},
   "source": [
    "- Population : A collection of individual or object or events whose properties are tobe analysed called as a Population (the whole date)\n",
    "- Sample : A subset of population. A good sample will be representative to the population\n",
    "\n",
    "Population mean is represented by µ and sample mean is represented by 'x bar'."
   ]
  },
  {
   "cell_type": "markdown",
   "metadata": {},
   "source": [
    "### Sampling technique"
   ]
  },
  {
   "cell_type": "markdown",
   "metadata": {},
   "source": [
    "1.  Probability sampling\n",
    "     Each member of the population has a non-zero probability of being selected. It is a Random sampling technique.\n",
    "    \n",
    "2. Non-Probability sampling\n",
    "     Members are getting selected from the population in some non random manner. There will be a bias in selection. It is a Non-Random Sampling technique\n",
    "\n",
    "########################################\n",
    "\n",
    "Probability sampling can be different types as below.\n",
    "\n",
    "1. Random Sampling\n",
    "    No bias in selection. Each member has a chance of getting selected.\n",
    "    \n",
    "2. Systematic sampling\n",
    "    Its a 'N'th name selection technique. We will split popuation into N groups. Will take 1 member (1st or 2nd or ... or last member from all groups) from each group. Here there is no non-zero probability for all members to get selected.\n",
    "\n",
    "3. Stratified Sampling\n",
    "    Here we will group the population based on characteristics. Then randomly choose members from each group. For example if we are taking a employee survay, we will split into male/ female , experience base, etc in to different groups and then randomly choose from all groups. This will help to create a sample represents population.\n",
    "\n",
    "########################################\n",
    "\n",
    "\n",
    "Non-Probability sampling can be different types as below.\n",
    "\n",
    "1. Convenience sampling\n",
    "      Getting the data from a particular group with most convenience.\n",
    "      \n",
    "2. Judgement sampling\n",
    "      Selects sample based on judgement. Its an extension of convenience sampling.\n",
    "      \n",
    "3. Quota Sampling\n",
    "      It is the non-probability equavalent of stratified sampling.\n",
    "      \n",
    "4. Snowball sampling\n",
    "      It is used when desired sample characteristic are rare. Its a chain of convenience sampling. Starting with a small number and growing into a big sample (like a snowball). This will work well in a survay ralated to medical or a cancer patient survay.\n"
   ]
  },
  {
   "cell_type": "markdown",
   "metadata": {},
   "source": [
    "### Descriptive statistics"
   ]
  },
  {
   "cell_type": "markdown",
   "metadata": {},
   "source": [
    "It helps to explore the data for further analysis. (Helps to describe and explore the existing data)."
   ]
  },
  {
   "cell_type": "markdown",
   "metadata": {},
   "source": [
    "###### Measure of center"
   ]
  },
  {
   "cell_type": "markdown",
   "metadata": {},
   "source": [
    "1. Mean : Average of the samples.\n",
    "2. Median : Mid value of the samples after sorting the same. If the samples count is even average of 2 mid values.\n",
    "3. Mode : Most frequent appeared value in the list."
   ]
  },
  {
   "cell_type": "code",
   "execution_count": 1,
   "metadata": {},
   "outputs": [
    {
     "data": {
      "text/plain": [
       "3"
      ]
     },
     "execution_count": 1,
     "metadata": {},
     "output_type": "execute_result"
    }
   ],
   "source": [
    "# to find mode\n",
    "\n",
    "from statistics import mode\n",
    "mode([1,1,3,3,3,3,4,5,6])"
   ]
  },
  {
   "cell_type": "code",
   "execution_count": 6,
   "metadata": {},
   "outputs": [
    {
     "name": "stdout",
     "output_type": "stream",
     "text": [
      "Mean is 3.2222222222222223\n",
      "Median is 3.0\n"
     ]
    }
   ],
   "source": [
    "# to find mean and median\n",
    "import numpy as np\n",
    "print(f'Mean is {np.mean([1,1,3,3,3,3,4,5,6])}')\n",
    "print(f'Median is {np.median([1,1,3,3,3,3,4,5,6])}')"
   ]
  },
  {
   "cell_type": "markdown",
   "metadata": {},
   "source": [
    "####### If there is a outlier in the data mean can go high or low, so we can take median of the data. Mode can be used in case of categorical data."
   ]
  },
  {
   "cell_type": "markdown",
   "metadata": {},
   "source": [
    "##### Measures of Spread"
   ]
  },
  {
   "cell_type": "markdown",
   "metadata": {},
   "source": [
    "Measures of spread is also called measures of dispersion. It used to describe the variability in sample or population.\n",
    "It is used as a conjunction with a measure of central tandancy (mean or median) to provide overall description of set of data.\n",
    "\n",
    "Measures of spread are\n",
    "\n",
    "1. Range\n",
    "   Range gives the measure of how spread the values are.\n",
    "   Range = max(xi) - min(xi)\n",
    "   \n",
    "2. Inter-quartile Range\n",
    "   Quartiles tell us about the spread of data set by breaking the data set into quarters, just like median breaks it in half.\n",
    "   Q1 is lower quartile, Q2 is middle quartile(median), Q3 is upper quartile. These 3 divides the data into 4. Each quartile has 25% brackets.\n",
    "   Inter Quartile Range(IQR) is the measure of variability, based on dividing the dataset into quartiles.\n",
    "   IQR = Q3 - Q1\n",
    "   \n",
    "   ================================\n",
    "   |  25%  | 25%  |  25%  |  25% |\n",
    "   ================================\n",
    "           Q1     Q2      Q3\n",
    "   \n",
    "   To define outliers, we can use IQR\n",
    "   We can set upper limit as 'Q3 + 1.5 * IQR' and lower limit as 'Q1 - 1.5 * IQR' for the dataset. Anything outside the limits can be treated as outliers.\n",
    "\n",
    "\n",
    "3. Variance\n",
    "   Population varience : Average of squared deviations.\n",
    "   Sample variance : Sum of squared deviations divided by (n-1).\n",
    "   Population varience (σ2) - sigma square = (∑(xi - µ)^2)/N\n",
    "   Sample variance (S2) - s square = ∑((xi-(x bar))^2/(n-1)\n",
    "   \n",
    "4. Standard deviation\n",
    "   The difference between each xi and the mean is called deviation about the mean.\n",
    "   standard deviation = square root of variance\n",
    "   standard deviation is the best and robust measure than variance."
   ]
  },
  {
   "cell_type": "code",
   "execution_count": 7,
   "metadata": {},
   "outputs": [
    {
     "data": {
      "text/plain": [
       "5"
      ]
     },
     "execution_count": 7,
     "metadata": {},
     "output_type": "execute_result"
    }
   ],
   "source": [
    "#calculating range\n",
    "\n",
    "np.ptp([1,1,3,3,3,3,4,5,6])"
   ]
  },
  {
   "cell_type": "code",
   "execution_count": 8,
   "metadata": {},
   "outputs": [
    {
     "data": {
      "text/plain": [
       "2.3950617283950617"
      ]
     },
     "execution_count": 8,
     "metadata": {},
     "output_type": "execute_result"
    }
   ],
   "source": [
    "#calculating variance \n",
    "\n",
    "np.var([1,1,3,3,3,3,4,5,6])"
   ]
  },
  {
   "cell_type": "code",
   "execution_count": 9,
   "metadata": {},
   "outputs": [
    {
     "data": {
      "text/plain": [
       "1.547598697464902"
      ]
     },
     "execution_count": 9,
     "metadata": {},
     "output_type": "execute_result"
    }
   ],
   "source": [
    "#calculating standard divation\n",
    "\n",
    "np.std([1,1,3,3,3,3,4,5,6])"
   ]
  },
  {
   "cell_type": "markdown",
   "metadata": {},
   "source": [
    "### Information gain and Entropy"
   ]
  },
  {
   "cell_type": "markdown",
   "metadata": {},
   "source": [
    "Entropy is a measure of uncertainity. The more the uncertainity, the more the disorder, the more the entropy.\n",
    "Value of entropy is always between 0 & 1.\n",
    "\n",
    "Formula for Entropy:\n",
    "\n",
    "Entropy H(S) = Negative of (i=1 to n) ∑Pi log2Pi\n",
    "\n",
    "S- set of all instances in dataset, N- number of distinct class values, Pi - event probability"
   ]
  },
  {
   "cell_type": "code",
   "execution_count": 11,
   "metadata": {},
   "outputs": [],
   "source": [
    "# checking entropy with a sample data (cricket match occurance with weather conditions)\n",
    "\n",
    "import pandas as pd\n",
    "\n",
    "df = pd.read_csv(r'D:\\E\\Courses\\DS_Master_Program\\Python Statistics for Data Science Course\\1. Understanding the Data\\rain_play.csv')"
   ]
  },
  {
   "cell_type": "code",
   "execution_count": 12,
   "metadata": {},
   "outputs": [
    {
     "data": {
      "text/html": [
       "<div>\n",
       "<style scoped>\n",
       "    .dataframe tbody tr th:only-of-type {\n",
       "        vertical-align: middle;\n",
       "    }\n",
       "\n",
       "    .dataframe tbody tr th {\n",
       "        vertical-align: top;\n",
       "    }\n",
       "\n",
       "    .dataframe thead th {\n",
       "        text-align: right;\n",
       "    }\n",
       "</style>\n",
       "<table border=\"1\" class=\"dataframe\">\n",
       "  <thead>\n",
       "    <tr style=\"text-align: right;\">\n",
       "      <th></th>\n",
       "      <th>Day</th>\n",
       "      <th>Outlook</th>\n",
       "      <th>Humidity</th>\n",
       "      <th>Wind</th>\n",
       "      <th>Play</th>\n",
       "    </tr>\n",
       "  </thead>\n",
       "  <tbody>\n",
       "    <tr>\n",
       "      <th>0</th>\n",
       "      <td>D1</td>\n",
       "      <td>Sunny</td>\n",
       "      <td>High</td>\n",
       "      <td>Weak</td>\n",
       "      <td>No</td>\n",
       "    </tr>\n",
       "    <tr>\n",
       "      <th>1</th>\n",
       "      <td>D2</td>\n",
       "      <td>Sunny</td>\n",
       "      <td>High</td>\n",
       "      <td>Strong</td>\n",
       "      <td>No</td>\n",
       "    </tr>\n",
       "    <tr>\n",
       "      <th>2</th>\n",
       "      <td>D3</td>\n",
       "      <td>Overcast</td>\n",
       "      <td>High</td>\n",
       "      <td>Weak</td>\n",
       "      <td>Yes</td>\n",
       "    </tr>\n",
       "    <tr>\n",
       "      <th>3</th>\n",
       "      <td>D4</td>\n",
       "      <td>Rain</td>\n",
       "      <td>High</td>\n",
       "      <td>Weak</td>\n",
       "      <td>Yes</td>\n",
       "    </tr>\n",
       "    <tr>\n",
       "      <th>4</th>\n",
       "      <td>D5</td>\n",
       "      <td>Rain</td>\n",
       "      <td>Normal</td>\n",
       "      <td>Weak</td>\n",
       "      <td>Yes</td>\n",
       "    </tr>\n",
       "    <tr>\n",
       "      <th>5</th>\n",
       "      <td>D6</td>\n",
       "      <td>Rain</td>\n",
       "      <td>Normal</td>\n",
       "      <td>Strong</td>\n",
       "      <td>No</td>\n",
       "    </tr>\n",
       "    <tr>\n",
       "      <th>6</th>\n",
       "      <td>D7</td>\n",
       "      <td>Overcast</td>\n",
       "      <td>Normal</td>\n",
       "      <td>Strong</td>\n",
       "      <td>Yes</td>\n",
       "    </tr>\n",
       "    <tr>\n",
       "      <th>7</th>\n",
       "      <td>D8</td>\n",
       "      <td>Sunny</td>\n",
       "      <td>High</td>\n",
       "      <td>Weak</td>\n",
       "      <td>No</td>\n",
       "    </tr>\n",
       "    <tr>\n",
       "      <th>8</th>\n",
       "      <td>D9</td>\n",
       "      <td>Sunny</td>\n",
       "      <td>Normal</td>\n",
       "      <td>Weak</td>\n",
       "      <td>Yes</td>\n",
       "    </tr>\n",
       "    <tr>\n",
       "      <th>9</th>\n",
       "      <td>D10</td>\n",
       "      <td>Rain</td>\n",
       "      <td>Normal</td>\n",
       "      <td>Weak</td>\n",
       "      <td>Yes</td>\n",
       "    </tr>\n",
       "    <tr>\n",
       "      <th>10</th>\n",
       "      <td>D11</td>\n",
       "      <td>Sunny</td>\n",
       "      <td>Normal</td>\n",
       "      <td>Strong</td>\n",
       "      <td>Yes</td>\n",
       "    </tr>\n",
       "    <tr>\n",
       "      <th>11</th>\n",
       "      <td>D12</td>\n",
       "      <td>Overcast</td>\n",
       "      <td>High</td>\n",
       "      <td>Strong</td>\n",
       "      <td>Yes</td>\n",
       "    </tr>\n",
       "    <tr>\n",
       "      <th>12</th>\n",
       "      <td>D13</td>\n",
       "      <td>Overcast</td>\n",
       "      <td>Normal</td>\n",
       "      <td>Weak</td>\n",
       "      <td>Yes</td>\n",
       "    </tr>\n",
       "    <tr>\n",
       "      <th>13</th>\n",
       "      <td>D14</td>\n",
       "      <td>Rain</td>\n",
       "      <td>High</td>\n",
       "      <td>Strong</td>\n",
       "      <td>No</td>\n",
       "    </tr>\n",
       "  </tbody>\n",
       "</table>\n",
       "</div>"
      ],
      "text/plain": [
       "    Day   Outlook Humidity    Wind Play\n",
       "0    D1     Sunny     High    Weak   No\n",
       "1    D2     Sunny     High  Strong   No\n",
       "2    D3  Overcast     High    Weak  Yes\n",
       "3    D4      Rain     High    Weak  Yes\n",
       "4    D5      Rain   Normal    Weak  Yes\n",
       "5    D6      Rain   Normal  Strong   No\n",
       "6    D7  Overcast   Normal  Strong  Yes\n",
       "7    D8     Sunny     High    Weak   No\n",
       "8    D9     Sunny   Normal    Weak  Yes\n",
       "9   D10      Rain   Normal    Weak  Yes\n",
       "10  D11     Sunny   Normal  Strong  Yes\n",
       "11  D12  Overcast     High  Strong  Yes\n",
       "12  D13  Overcast   Normal    Weak  Yes\n",
       "13  D14      Rain     High  Strong   No"
      ]
     },
     "execution_count": 12,
     "metadata": {},
     "output_type": "execute_result"
    }
   ],
   "source": [
    "df"
   ]
  },
  {
   "cell_type": "markdown",
   "metadata": {},
   "source": [
    "##### In dataset 9 Yes and 5 No\n",
    "\n",
    "H(S) = (i=1 to n) -∑Pi log2Pi\n",
    "\n",
    "H(S) = -(9/14)log2(9/14) - (5/14)log2(5/14)"
   ]
  },
  {
   "cell_type": "code",
   "execution_count": 13,
   "metadata": {},
   "outputs": [
    {
     "data": {
      "text/plain": [
       "0.9402859586706309"
      ]
     },
     "execution_count": 13,
     "metadata": {},
     "output_type": "execute_result"
    }
   ],
   "source": [
    "import math\n",
    "-(9/14)*math.log((9/14),2) - (5/14)*math.log((5/14),2)"
   ]
  },
  {
   "cell_type": "markdown",
   "metadata": {},
   "source": [
    "Total Entropy = 0.94 (Its very high)"
   ]
  },
  {
   "cell_type": "markdown",
   "metadata": {},
   "source": [
    "### Information Gain\n",
    "\n",
    "Information Gain of windy = Entropy of Dataset - Entropy of windy"
   ]
  },
  {
   "cell_type": "markdown",
   "metadata": {},
   "source": [
    "###### play happening on windy windy --> windy = 'weak' (6-yes & 2-no),  windy = 'strong' (3-yes & 3-no)\n",
    "\n",
    "Entropy of windy = (8/14)*(-(6/8)*log2(6/8) - (2/8)*log2(2/8)) + (6/14)*(-(3/6)*log2(3/6) - (3/6)*log2(3/6))"
   ]
  },
  {
   "cell_type": "code",
   "execution_count": 34,
   "metadata": {},
   "outputs": [
    {
     "data": {
      "text/plain": [
       "0.8921589282623617"
      ]
     },
     "execution_count": 34,
     "metadata": {},
     "output_type": "execute_result"
    }
   ],
   "source": [
    "(8/14)*((-(6/8)*math.log((6/8),2)) - (2/8)*math.log((2/8),2)) + (6/14)*((-(3/6)*math.log((3/6),2)) - (3/6)*math.log((3/6),2))"
   ]
  },
  {
   "cell_type": "code",
   "execution_count": 35,
   "metadata": {},
   "outputs": [],
   "source": [
    "gain_windy = 0.9402859586706309 - 0.8921589282623617"
   ]
  },
  {
   "cell_type": "code",
   "execution_count": 36,
   "metadata": {},
   "outputs": [
    {
     "data": {
      "text/plain": [
       "0.04812703040826927"
      ]
     },
     "execution_count": 36,
     "metadata": {},
     "output_type": "execute_result"
    }
   ],
   "source": [
    "gain_windy"
   ]
  },
  {
   "cell_type": "markdown",
   "metadata": {},
   "source": [
    "#simillarly calculating information for other 3 parameters\n",
    "\n",
    "gain_outlook = 0.247\n",
    "\n",
    "gain_humidity = 0.151\n",
    "\n",
    "gain_temperature = 0.029"
   ]
  },
  {
   "cell_type": "markdown",
   "metadata": {},
   "source": [
    "#### we can choose variables with highest information gain and lowest entropy for model creation"
   ]
  },
  {
   "cell_type": "markdown",
   "metadata": {},
   "source": [
    "### Condusion Matrix"
   ]
  },
  {
   "cell_type": "markdown",
   "metadata": {},
   "source": [
    "accuracy = True predictions/ Total count"
   ]
  },
  {
   "cell_type": "markdown",
   "metadata": {},
   "source": [
    "sensitivity = True Positive/(True Positive + False Negative)\n",
    "\n",
    "Its also called true positive rate or the recall"
   ]
  },
  {
   "cell_type": "markdown",
   "metadata": {},
   "source": [
    "specificity = True Negative /(True Negative + False Positive)\n",
    "\n",
    "Its also called true negative rate"
   ]
  }
 ],
 "metadata": {
  "kernelspec": {
   "display_name": "Python 3",
   "language": "python",
   "name": "python3"
  },
  "language_info": {
   "codemirror_mode": {
    "name": "ipython",
    "version": 3
   },
   "file_extension": ".py",
   "mimetype": "text/x-python",
   "name": "python",
   "nbconvert_exporter": "python",
   "pygments_lexer": "ipython3",
   "version": "3.7.4"
  }
 },
 "nbformat": 4,
 "nbformat_minor": 2
}
