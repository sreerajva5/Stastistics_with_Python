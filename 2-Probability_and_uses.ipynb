{
 "cells": [
  {
   "cell_type": "markdown",
   "metadata": {},
   "source": [
    "Propability = Desired output/ Total Outputs"
   ]
  },
  {
   "cell_type": "markdown",
   "metadata": {},
   "source": [
    "P(A U B) = P(A) + P(B) - P(A intersection B)\n",
    "\n",
    "eg: getting 100 for a student in both stati and python"
   ]
  },
  {
   "cell_type": "markdown",
   "metadata": {},
   "source": [
    "For a disjoint events (P(A intersection B) is zero)\n",
    "\n",
    "P(A U B) =P(A) + P(B)\n",
    "\n",
    "eg: Getting a six and a wicket in a ball"
   ]
  },
  {
   "cell_type": "markdown",
   "metadata": {},
   "source": [
    "#### Rules\n",
    "\n",
    "P(A complement) = 1 - P(A)\n",
    "\n",
    "If A subset of B,   P(A) less than or equal to P(B)\n",
    "\n",
    "For any 2 events, P(A U B) = P(A) + P(B) - P(A intersection B)\n",
    "\n",
    "For disjoint events,  P(A U B) =P(A) + P(B)\n",
    "\n",
    "For 3 events,  P(A U B U C) = P(A) + P(B) + P(C) - P(A η B) - P(A η C) - P(B η C) + P(A η B η C)"
   ]
  },
  {
   "cell_type": "markdown",
   "metadata": {},
   "source": [
    "#### Probability distribution function"
   ]
  },
  {
   "cell_type": "markdown",
   "metadata": {},
   "source": [
    "- Probability Distribution Function\n",
    "The euation describing a continuous probability distribution is called a Probability Density Function.\n",
    "Properties :- \n",
    "1. Graph of a PDF will be continuous over a range.\n",
    "2. Area within curve of the PDF and X-axis is 1.\n",
    "3. Probability that a random variable assumes between a and b is equal to the area under the PDF bounded by a and b.\n",
    "\n",
    "- Normal Distribution\n",
    "Normal distribution is a probability distribution that associates a normal random variable X with a calculative probability.\n",
    "\n",
    "- Central Limit Theorem\n",
    "\n",
    "\n",
    "Note:- Frequency distribution - Plotting between instances vs no. of instances.\n",
    "Bind distribution - Plotting between range of instances and number within range of instances.\n",
    "\n"
   ]
  },
  {
   "cell_type": "markdown",
   "metadata": {},
   "source": [
    "- Normal Random Variable\n",
    "Normal Random Variable with mean at zero and variance equat to 1.\n",
    "\n",
    "##### Normal Distribution\n",
    "Normal Distribution is probability distribution function that associates a normal random variable X with a cumilative probability.\n",
    "\n",
    "Graph of a normal distribution depends on 2 factors\n",
    "\n",
    "1. Mean - Determine the location of the center of the graph\n",
    "2. Standard Deviation - Determines the height of the graph. (If SD is low graph will be more flatter, If SD is small curve is tall and narrow)."
   ]
  },
  {
   "cell_type": "markdown",
   "metadata": {},
   "source": [
    "- Positive Skew Distribution\n",
    "Peak of the curve is in the left side of the curve. More area in left side of the curve.\n",
    "\n",
    "- Negative skew Distribution\n",
    "Peak of the cure will be in the right side of the curve."
   ]
  },
  {
   "cell_type": "markdown",
   "metadata": {},
   "source": [
    "#### For a normal distribution - 68% of the values comes within a srandard deviation of 1, 95% of the values comes within a SD of 2, 99% of values comes within SD of 3."
   ]
  },
  {
   "cell_type": "markdown",
   "metadata": {},
   "source": [
    "Z Score = (x - mean)/SD\n",
    "\n",
    "Z score represents how many standard deviations away the value is from the mean."
   ]
  },
  {
   "cell_type": "markdown",
   "metadata": {},
   "source": [
    "#### Central Limit Theorem\n",
    "\n",
    "Central Limit Theorem states the sampling distribution of the mean of any independant, random variable will be normal or nearly normal , if the sample size is large enough.\n",
    "\n",
    "Standard Error = SD/sqrt(sample size)"
   ]
  },
  {
   "cell_type": "markdown",
   "metadata": {},
   "source": [
    "### Types of probability\n",
    "\n",
    "- Marginal Probability\n",
    "Probability of occurace of a single event.\n",
    "\n",
    "- Joint Probability\n",
    "Is a measure of 2 events happening at the same time.\n",
    "\n",
    "- Conditional Probability\n",
    "Probability of an event or outcome based on the occurance of a previous event or outcome.\n",
    "\n",
    "\n",
    "If A and B are dependant events \n",
    "\n",
    "P(A|B) = P(A and B) / P(A)\n",
    "\n",
    "\n",
    "If A and B are independant events\n",
    "P(A|B) = P(B)"
   ]
  },
  {
   "cell_type": "markdown",
   "metadata": {},
   "source": [
    "### Baye's theorem\n",
    "shows relation between one conditional probability and ites reverse\n",
    "\n",
    "P(A|B) = P(B|A) * P(A) /P(B)\n",
    "\n",
    "P(A|B) ---> probability of occurance of A, given B has occured."
   ]
  },
  {
   "cell_type": "code",
   "execution_count": 1,
   "metadata": {},
   "outputs": [
    {
     "name": "stdout",
     "output_type": "stream",
     "text": [
      "The probability that a candidate has undergone Edureka training is  0.43\n",
      "The probability that a candidate has attended Edureka training and also has good package  0.2857142857142857\n",
      "The probability of students getting good package without edureka training is  0.08333333333333333\n"
     ]
    }
   ],
   "source": [
    "#Marginal Probability\n",
    "\n",
    "#total number of students\n",
    "total=105\n",
    "\n",
    "#Students attended edureka training\n",
    "students_trained=45\n",
    "\n",
    "# The probability that a candidate has undergone Edureka training\n",
    "edu_training=students_trained/total\n",
    "print(\"The probability that a candidate has undergone Edureka training is \",round(edu_training,2))\n",
    "\n",
    "#Joint probability\n",
    "\n",
    "#students with edureka training having good salary\n",
    "good_sal_edu=30\n",
    "\n",
    "#students without edureka training having good salary\n",
    "good_sal=5\n",
    "\n",
    "#Finding the probability that a candidate has attended Edureka training and\n",
    "# also has good package\n",
    "student_good_sal=good_sal_edu/total\n",
    "\n",
    "print(\"The probability that a candidate has attended Edureka training and also has good \"\n",
    "      \"package \",student_good_sal)\n",
    "\n",
    "\n",
    "\n",
    "#Conditional Probability\n",
    "\n",
    "#Total no. of students without edureka training\n",
    "student_without_training=60\n",
    "\n",
    "#Students getting good salary without training\n",
    "student_without_training_good_sal=5\n",
    "\n",
    "print(\"The probability of students getting good package without edureka training \"\n",
    "      \"is \",student_without_training_good_sal/student_without_training)"
   ]
  },
  {
   "cell_type": "code",
   "execution_count": 2,
   "metadata": {},
   "outputs": [
    {
     "name": "stdout",
     "output_type": "stream",
     "text": [
      "Events are not disjoint\n",
      "Probability that a randomly drawn person has a university degree or \n",
      " agrees with the statement about duration time is  0.85\n",
      "Percent of the population do not have a university degree \n",
      " and disagree with the  statement about duration time of lectures is  0.15000000000000002\n"
     ]
    }
   ],
   "source": [
    "#total number of participants\n",
    "total=100000\n",
    "\n",
    "#Probability of students agree that the duration of\n",
    "# the courses conducted by Edureka is just right\n",
    "agree=0.80\n",
    "\n",
    "# probability of students having university degree\n",
    "university_degree=0.1\n",
    "\n",
    "#probability of students fit in both categories\n",
    "agree_with_degree=0.05\n",
    "\n",
    "#Part 1 solution\n",
    "if(agree_with_degree==0):\n",
    "    print(\"Both events are disjoint\")\n",
    "else:\n",
    "    print(\"Events are not disjoint\")\n",
    "\n",
    "\n",
    "#Part 3 solution\n",
    "\n",
    "#Probability that a randomly drawn person has a university degree\n",
    "# or agrees with the statement about duration time\n",
    "\n",
    "soln=agree+university_degree-agree_with_degree\n",
    "\n",
    "print(\"Probability that a randomly drawn person has a university degree or \"\n",
    "      \"\\n agrees with the statement about duration time is \",soln)\n",
    "\n",
    "#Part 4 solution\n",
    "\n",
    "#percent of the population do not have a university degree\n",
    "# and disagree with the  statement about duration time of lectures\n",
    "\n",
    "ans=1-soln\n",
    "print(\"Percent of the population do not have a university degree \"\n",
    "      \"\\n and disagree with the  statement about duration time of lectures is \",ans)"
   ]
  },
  {
   "cell_type": "code",
   "execution_count": 5,
   "metadata": {},
   "outputs": [
    {
     "name": "stdout",
     "output_type": "stream",
     "text": [
      "0.08\n",
      "0.25\n",
      "25.0%\n",
      "23.1%\n",
      "1.9%\n",
      "19.6\n"
     ]
    }
   ],
   "source": [
    "#8\n",
    "# Sample Space\n",
    "cards = 52\n",
    "\n",
    "# Outcomes\n",
    "aces = 4\n",
    "\n",
    "# Divide possible outcomes by the sample set\n",
    "ace_probability = aces / cards\n",
    "\n",
    "# Print probability rounded to two decimal places\n",
    "print(round(ace_probability, 2))\n",
    "\n",
    "#42\n",
    "\n",
    "# Sample Space\n",
    "cards = 52\n",
    "\n",
    "# Determine the probability of drawing a heart\n",
    "hearts = 13\n",
    "hearts_probability = hearts/cards\n",
    "\n",
    "print(round(hearts_probability,2))\n",
    "\n",
    "\n",
    "\n",
    "#44\n",
    "# Create function that returns probability percent rounded to one decimal place\n",
    "def event_probability(event_outcomes, sample_space):\n",
    "    probability = (event_outcomes / sample_space) * 100\n",
    "    return round(probability, 1)\n",
    "\n",
    "# Sample Space\n",
    "cards = 52\n",
    "\n",
    "# Determine the probability of drawing a heart\n",
    "hearts = 13\n",
    "heart_probability = event_probability(hearts, cards)\n",
    "\n",
    "# Determine the probability of drawing a face card\n",
    "face_cards = 12\n",
    "face_card_probability = event_probability(face_cards, cards)\n",
    "\n",
    "# Determine the probability of drawing the queen of hearts\n",
    "ace_of_hearts = 1\n",
    "ace_of_hearts_probability = event_probability(ace_of_hearts, cards)\n",
    "\n",
    "# Print each probability\n",
    "print(str(heart_probability) + '%')\n",
    "print(str(face_card_probability) + '%')\n",
    "print(str(ace_of_hearts_probability) + '%')\n",
    "\n",
    "\n",
    "#46\n",
    "\n",
    "# Sample Space\n",
    "cards = 52\n",
    "hole_cards = 2\n",
    "turn_community_cards = 4\n",
    "cards = cards - (hole_cards + turn_community_cards)\n",
    "\n",
    "# Outcomes\n",
    "diamonds = 13\n",
    "diamonds_drawn = 4\n",
    "# In poker, cards that complete a draw are known as \"outs\"\n",
    "outs = diamonds - diamonds_drawn\n",
    "\n",
    "#Determine river flush probability\n",
    "river_flush_probability = event_probability(outs, cards)\n",
    "print(river_flush_probability)"
   ]
  },
  {
   "cell_type": "code",
   "execution_count": 7,
   "metadata": {},
   "outputs": [
    {
     "data": {
      "image/png": "[encoded data removed]",
      "text/plain": [
       "<Figure size 432x288 with 1 Axes>"
      ]
     },
     "metadata": {
      "needs_background": "light"
     },
     "output_type": "display_data"
    },
    {
     "data": {
      "image/png": "[encoded data removed]",
      "text/plain": [
       "<Figure size 648x648 with 1 Axes>"
      ]
     },
     "metadata": {
      "needs_background": "light"
     },
     "output_type": "display_data"
    }
   ],
   "source": [
    "from scipy.stats import norm\n",
    "import numpy as np\n",
    "import matplotlib.pyplot as plt\n",
    "%matplotlib inline\n",
    "\n",
    "\n",
    "x= np.arange(-4,4,0.001)\n",
    "plt.plot(x, norm.pdf(x))\n",
    "\n",
    "plt.show()\n",
    "\n",
    "\n",
    "#new\n",
    "import numpy as np\n",
    "import pandas as pd\n",
    "import matplotlib.pyplot as plt\n",
    "import scipy.stats  as stats\n",
    "\n",
    "uniform_data = stats.uniform.rvs(size=100000,  # Generate 100000 numbers\n",
    "                                 loc = 0,      # From 0\n",
    "                                 scale=10)     # To 10\n",
    "\n",
    "pd.DataFrame(uniform_data).plot(kind=\"density\",  # Plot the distribution\n",
    "                               figsize=(9,9),\n",
    "                               xlim=(-1,11))\n",
    "\n",
    "from scipy.stats import norm\n",
    "import numpy as np\n",
    "import matplotlib.pyplot as plt\n",
    "\n",
    "\n",
    "x= np.arange(-4,4,0.001)\n",
    "plt.plot(x, norm.pdf(x))\n",
    "\n",
    "plt.show()"
   ]
  },
  {
   "cell_type": "code",
   "execution_count": 8,
   "metadata": {},
   "outputs": [
    {
     "name": "stdout",
     "output_type": "stream",
     "text": [
      "5\n",
      "a hey b 12:1.2\n",
      "6\n",
      "5 *****\n",
      "1.5\n",
      "0.69986833\n",
      "18.3\n",
      "11\n",
      "13.5\n",
      "[10, 11, 11, 11, 12, 15, 23, 23, 33, 34]\n",
      "87.34444444444445\n",
      "9.345824973989426\n"
     ]
    }
   ],
   "source": [
    "s = 0\n",
    "for i in range(0,3):\n",
    "    s += i*i\n",
    "print(s)\n",
    "\n",
    "print(\"a %s b %d:%3.1f\" % (\"hey\",12,1.2))\n",
    "\n",
    "def f(x, y):\n",
    "    return (x*y)\n",
    "print(f(3,2))\n",
    "\n",
    "x = 5\n",
    "print(\"%d %s\" % (x, x*\"*\"))\n",
    "\n",
    "print(sum([1.0/i for i in range(1,3)]))\n",
    "\n",
    "from random import random\n",
    "samp_size = 100000000\n",
    "n = 0\n",
    "for i in range(0,samp_size):\n",
    "    if random() < 0.7:\n",
    "        n += 1\n",
    "p = float(n) / samp_size\n",
    "print(p)\n",
    "\n",
    "import statistics\n",
    "\n",
    "agesData=[10,23,34,11,23,33,12,11,15,11]\n",
    "\n",
    "print(statistics.mean(agesData))\n",
    "print(statistics.mode(agesData))\n",
    "print(statistics.median(agesData))\n",
    "print(sorted(agesData))\n",
    "print(statistics.variance(agesData))\n",
    "print(statistics.stdev(agesData))"
   ]
  },
  {
   "cell_type": "code",
   "execution_count": 9,
   "metadata": {},
   "outputs": [
    {
     "data": {
      "image/png": "[encoded data removed]",
      "text/plain": [
       "<Figure size 432x288 with 1 Axes>"
      ]
     },
     "metadata": {
      "needs_background": "light"
     },
     "output_type": "display_data"
    }
   ],
   "source": [
    "from scipy.stats import norm\n",
    "import numpy as np\n",
    "import matplotlib.pyplot as plt\n",
    "\n",
    "\n",
    "x= np.arange(-4,4,0.001)\n",
    "plt.plot(x, norm.pdf(x))\n",
    "\n",
    "plt.show()\n"
   ]
  },
  {
   "cell_type": "code",
   "execution_count": 10,
   "metadata": {},
   "outputs": [
    {
     "data": {
      "text/plain": [
       "[<matplotlib.lines.Line2D at 0x1b7e61b8988>]"
      ]
     },
     "execution_count": 10,
     "metadata": {},
     "output_type": "execute_result"
    },
    {
     "data": {
      "image/png": "[encoded data removed]",
      "text/plain": [
       "<Figure size 432x288 with 1 Axes>"
      ]
     },
     "metadata": {
      "needs_background": "light"
     },
     "output_type": "display_data"
    }
   ],
   "source": [
    "#Normal Distribution\n",
    "\n",
    "import numpy as np\n",
    "import matplotlib.pyplot as pl\n",
    "\n",
    "x = np.random.randn(10000)\n",
    "\n",
    "nbins = 20\n",
    "\n",
    "n, bins = np.histogram(x, nbins)\n",
    "pdfx = np.zeros(n.size)\n",
    "pdfy = np.zeros(n.size)\n",
    "for k in range(n.size):\n",
    "    pdfx[k] = 0.5*(bins[k]+bins[k+1])\n",
    "    pdfy[k] = n[k]\n",
    "\n",
    "pl.plot(pdfx, pdfy)"
   ]
  },
  {
   "cell_type": "code",
   "execution_count": 11,
   "metadata": {},
   "outputs": [
    {
     "name": "stdout",
     "output_type": "stream",
     "text": [
      "  company    model rating   type\n",
      "0    ford  mustang      A  coupe\n",
      "1   chevy   camaro      B  coupe\n",
      "2    ford   fiesta      C  sedan\n",
      "3    ford    focus      A  sedan\n",
      "4    ford   taurus      B  sedan\n",
      "5  toyota    camry      B  sedan\n",
      "rating\n",
      "A    0.333333\n",
      "B    0.500000\n",
      "C    0.166667\n",
      "Name: model, dtype: float64\n",
      "rating  type \n",
      "A       coupe    0.500000\n",
      "        sedan    0.500000\n",
      "B       coupe    0.333333\n",
      "        sedan    0.666667\n",
      "C       sedan    1.000000\n",
      "Name: model, dtype: float64\n"
     ]
    }
   ],
   "source": [
    "#Conditional Probability\n",
    "\n",
    "import pandas as pd\n",
    "\n",
    "df = pd.DataFrame({'company': ['ford', 'chevy', 'ford', 'ford', 'ford', 'toyota'],\n",
    "                     'model': ['mustang', 'camaro', 'fiesta', 'focus', 'taurus', 'camry'],\n",
    "                     'rating': ['A', 'B', 'C', 'A', 'B', 'B'],\n",
    "                     'type': ['coupe', 'coupe', 'sedan', 'sedan', 'sedan', 'sedan']})\n",
    "print(df)\n",
    "\n",
    "print(df.groupby('rating').count()['model'] / len(df))\n",
    "\n",
    "print((df.groupby(['rating', 'type']).count() / df.groupby('rating').count())['model'])\n",
    "\n",
    "\n"
   ]
  },
  {
   "cell_type": "code",
   "execution_count": 12,
   "metadata": {},
   "outputs": [
    {
     "name": "stdout",
     "output_type": "stream",
     "text": [
      "Probability of being from FR: 0.2222222222222222\n",
      "Probability to be French Boy: 0.1111111111111111\n",
      "Probability of being a Boy given a person is from FR: 0.5\n",
      "Probability to be from France given person is Boy: 0.3333333333333333\n",
      "Probability economy is growing when stock is Up: 0.8421052631578948\n"
     ]
    }
   ],
   "source": [
    "#Bayes Theorem\n",
    "def get_outcomes(sample_space, f_name='', e_name=''):\n",
    "    outcomes = 0\n",
    "    for e_k, e_v in sample_space.items():\n",
    "        if f_name=='' or f_name==e_k:\n",
    "            for se_k, se_v in e_v.items():\n",
    "                if e_name!='' and se_k == e_name:\n",
    "                    outcomes+=se_v\n",
    "                elif e_name=='':\n",
    "                    outcomes+=se_v\n",
    "    return outcomes\n",
    "\n",
    "def p(sample_space, f_name):\n",
    "    return get_outcomes(sample_space, f_name) / get_outcomes(sample_space, '', '')\n",
    "\n",
    "def p_inters(sample_space, f_name, e_name):\n",
    "    return get_outcomes(sample_space, f_name, e_name) / get_outcomes(sample_space, '', '')\n",
    "\n",
    "def p_conditional(sample_space, f_name, e_name):\n",
    "    return p_inters(sample_space, f_name, e_name) / p(sample_space, f_name)\n",
    "\n",
    "def bayes(sample_space, f, given_e):\n",
    "    sum = 0;\n",
    "    for e_k, e_v in sample_space.items():\n",
    "        sum+=p(sample_space, e_k) * p_conditional(sample_space, e_k, given_e)\n",
    "    return p(sample_space, f) * p_conditional(sample_space, f, given_e) / sum\n",
    "\n",
    "sample_space = {'UK':{'Boy':10, 'Girl':20},\n",
    "                'FR':{'Boy':10, 'Girl':10},\n",
    "                'CA':{'Boy':10, 'Girl':30}}\n",
    "\n",
    "print('Probability of being from FR:', p(sample_space, 'FR'))\n",
    "print('Probability to be French Boy:', p_inters(sample_space, 'FR', 'Boy'))\n",
    "print('Probability of being a Boy given a person is from FR:', p_conditional(sample_space, 'FR', 'Boy'))\n",
    "print('Probability to be from France given person is Boy:', bayes(sample_space, 'FR', 'Boy'))\n",
    "\n",
    "sample_space = {'Grow' :{'Up':160, 'Down':40},\n",
    "                'Slows':{'Up':30, 'Down':70}}\n",
    "\n",
    "print('Probability economy is growing when stock is Up:', bayes(sample_space, 'Grow', 'Up'))"
   ]
  }
 ],
 "metadata": {
  "kernelspec": {
   "display_name": "Python 3",
   "language": "python",
   "name": "python3"
  },
  "language_info": {
   "codemirror_mode": {
    "name": "ipython",
    "version": 3
   },
   "file_extension": ".py",
   "mimetype": "text/x-python",
   "name": "python",
   "nbconvert_exporter": "python",
   "pygments_lexer": "ipython3",
   "version": "3.7.4"
  }
 },
 "nbformat": 4,
 "nbformat_minor": 2
}
